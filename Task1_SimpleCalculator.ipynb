{
  "nbformat": 4,
  "nbformat_minor": 0,
  "metadata": {
    "colab": {
      "provenance": [],
      "authorship_tag": "ABX9TyPNf+dudM9qUvbxhC6cbgBK",
      "include_colab_link": true
    },
    "kernelspec": {
      "name": "python3",
      "display_name": "Python 3"
    },
    "language_info": {
      "name": "python"
    }
  },
  "cells": [
    {
      "cell_type": "markdown",
      "metadata": {
        "id": "view-in-github",
        "colab_type": "text"
      },
      "source": [
        "<a href=\"https://colab.research.google.com/github/IB06R/PythonDevelopmentInternTasks-Codveda-/blob/main/Task1_SimpleCalculator.ipynb\" target=\"_parent\"><img src=\"https://colab.research.google.com/assets/colab-badge.svg\" alt=\"Open In Colab\"/></a>"
      ]
    },
    {
      "cell_type": "code",
      "execution_count": null,
      "metadata": {
        "id": "7K5Hu1tzZv9R"
      },
      "outputs": [],
      "source": [
        "# Operations functions\n",
        "\n",
        "def add(x, y):\n",
        "    return x + y\n",
        "\n",
        "def subtract(x, y):\n",
        "    return x - y\n",
        "\n",
        "def multiply(x, y):\n",
        "    return x * y\n",
        "\n",
        "def divide(x, y):\n",
        "    if y == 0:\n",
        "        return \"Error:Cannot divide by zero!\"\n",
        "    else:\n",
        "        return x / y\n",
        "\n",
        "# User input\n",
        "try:\n",
        "    num1 = float(input(\"Enter first number: \"))\n",
        "    num2 = float(input(\"Enter second number: \"))\n",
        "\n",
        "    print(\"\\nChoose operation?\")\n",
        "    print(\"1. Add\")\n",
        "    print(\"2. Subtract\")\n",
        "    print(\"3. Multiply\")\n",
        "    print(\"4. Divide\")\n",
        "\n",
        "    choice = input(\"Choose 1, 2, 3, or 4: \")\n",
        "\n",
        "    if choice == '1':\n",
        "        print(f\"\\n {num1} plus {num2} = {add(num1, num2)}\")\n",
        "    elif choice == '2':\n",
        "        print(f\"\\n {num1} minus {num2} = {subtract(num1, num2)}\")\n",
        "    elif choice == '3':\n",
        "        print(f\"\\n {num1} multiplied by {num2} = {multiply(num1, num2)}\")\n",
        "    elif choice == '4':\n",
        "        result = divide(num1, num2)\n",
        "        print(f\"\\n {num1} divided by {num2} = {result}\")\n",
        "    else:\n",
        "        print(\"\\nEnter a valid choice!\")\n",
        "\n",
        "except ValueError:\n",
        "    print(\"\\nENter a numerical value!\")"
      ]
    },
    {
      "cell_type": "code",
      "source": [],
      "metadata": {
        "id": "EDw_7F3EfbNY"
      },
      "execution_count": null,
      "outputs": []
    },
    {
      "cell_type": "markdown",
      "source": [],
      "metadata": {
        "id": "ePQC33SDfbua"
      }
    },
    {
      "cell_type": "code",
      "source": [],
      "metadata": {
        "id": "ZS8M3cVXfe-C"
      },
      "execution_count": null,
      "outputs": []
    }
  ]
}